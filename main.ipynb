{
 "cells": [
  {
   "cell_type": "code",
   "execution_count": null,
   "metadata": {},
   "outputs": [],
   "source": [
    "import pyautogui as auto\n",
    "import time\n",
    "\n",
    "file1 = open(\"paste.txt\", \"r\")\n",
    "message1 = file1.read()\n",
    "print(message1)\n",
    "time.sleep(4)\n",
    "auto.write(message=message1)\n",
    "file1.close()"
   ]
  }
 ],
 "metadata": {
  "kernelspec": {
   "display_name": "Python 3.11.0 ('.venv': venv)",
   "language": "python",
   "name": "python3"
  },
  "language_info": {
   "codemirror_mode": {
    "name": "ipython",
    "version": 3
   },
   "file_extension": ".py",
   "mimetype": "text/x-python",
   "name": "python",
   "nbconvert_exporter": "python",
   "pygments_lexer": "ipython3",
   "version": "3.11.0"
  },
  "orig_nbformat": 4,
  "vscode": {
   "interpreter": {
    "hash": "a3863ae9b31112d7d61da468fb7305427d7e1e42db4c7cce7e7502865961ae09"
   }
  }
 },
 "nbformat": 4,
 "nbformat_minor": 2
}
